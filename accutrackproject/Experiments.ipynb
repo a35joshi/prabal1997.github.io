{
 "cells": [
  {
   "cell_type": "code",
   "execution_count": 2,
   "metadata": {},
   "outputs": [
    {
     "ename": "TypeError",
     "evalue": "int() argument must be a string, a bytes-like object or a number, not 'list'",
     "output_type": "error",
     "traceback": [
      "\u001b[0;31m---------------------------------------------------------------------------\u001b[0m",
      "\u001b[0;31mTypeError\u001b[0m                                 Traceback (most recent call last)",
      "\u001b[0;32m<ipython-input-2-fe31e68f7166>\u001b[0m in \u001b[0;36m<module>\u001b[0;34m()\u001b[0m\n\u001b[1;32m      2\u001b[0m \u001b[0;32mimport\u001b[0m \u001b[0mdatetime\u001b[0m\u001b[0;34m\u001b[0m\u001b[0m\n\u001b[1;32m      3\u001b[0m \u001b[0;34m\u001b[0m\u001b[0m\n\u001b[0;32m----> 4\u001b[0;31m \u001b[0mprint\u001b[0m\u001b[0;34m(\u001b[0m\u001b[0mint\u001b[0m\u001b[0;34m(\u001b[0m\u001b[0;34m[\u001b[0m\u001b[0;34m'1'\u001b[0m\u001b[0;34m,\u001b[0m \u001b[0;34m'2'\u001b[0m\u001b[0;34m]\u001b[0m\u001b[0;34m)\u001b[0m\u001b[0;34m)\u001b[0m\u001b[0;34m\u001b[0m\u001b[0m\n\u001b[0m\u001b[1;32m      5\u001b[0m \u001b[0;34m\u001b[0m\u001b[0m\n\u001b[1;32m      6\u001b[0m \u001b[0mprint\u001b[0m\u001b[0;34m(\u001b[0m\u001b[0;34m\"Apple\"\u001b[0m \u001b[0;32min\u001b[0m \u001b[0mstr\u001b[0m\u001b[0;34m.\u001b[0m\u001b[0mlower\u001b[0m\u001b[0;34m(\u001b[0m\u001b[0;34m\"apple\"\u001b[0m\u001b[0;34m)\u001b[0m\u001b[0;34m)\u001b[0m\u001b[0;34m\u001b[0m\u001b[0m\n",
      "\u001b[0;31mTypeError\u001b[0m: int() argument must be a string, a bytes-like object or a number, not 'list'"
     ]
    }
   ],
   "source": [
    "import numpy as npy\n",
    "import datetime\n",
    "\n",
    "print(int(['1', '2']))\n",
    "\n",
    "print(\"Apple\" in str.lower(\"apple\"))\n",
    "print(datetime.date.today())\n",
    "x = {'mango':6};\n",
    "x = [x[content] for content in x];\n",
    "print(x)\n",
    "print(npy.round(56/10)*10)\n",
    "print(npy.array(npy.matrix('[1, 2, 3]')))\n",
    "print(int(datetime.date.today().day))\n",
    "print(npy.floor(3.2))\n",
    "print(str(npy.array([1, 2, 3])).replace(' ', ','))"
   ]
  },
  {
   "cell_type": "code",
   "execution_count": 12,
   "metadata": {},
   "outputs": [
    {
     "name": "stdout",
     "output_type": "stream",
     "text": [
      "[,5.,,5.,15.,,2.,,0.,,0.,,0.,,0.,,0.,10.,11.,11.,,0.,,0.,,0.,,0.,31.,,0.\n",
      ",,0.,,0.,,0.,,0.,,0.,,0.,,0.,,0.,,0.,,0.,,0.,,0.,,0.,,0.,,0.,,0.,,0.,,0.\n",
      ",,0.,,0.,,0.,,0.,,0.,,0.,,0.,,0.,,0.,,0.,,0.,,0.,,0.,,0.,,0.,,0.,,0.,,0.\n",
      ",,0.,,0.,,0.,,0.,,0.,,0.,,0.,,0.,,0.,,0.,,0.,,0.,,0.,,0.,,0.,,0.,,0.,,0.\n",
      ",,0.,,0.,,0.,,0.,,0.,,0.,,0.,,0.,,0.,,0.,,0.,,0.,,0.,,0.,,0.,,0.,,0.,,0.\n",
      ",,0.,,0.,,0.,,0.,,0.,,0.,,0.,,0.,,0.,,0.,,0.,,0.,,0.,,0.,,0.,,0.,,0.,,0.\n",
      ",,0.,,0.,,0.,,0.,,0.,,0.,,0.,,0.,,0.,,0.,,0.,,0.,,0.,,0.,,0.,,0.,,0.,,0.\n",
      ",,0.,,0.,,0.,,0.,,0.,,0.,,0.,,0.,,0.,,0.,,0.,,0.,,0.,,0.,,0.,,0.,,0.,,0.\n",
      ",,0.,,0.,,0.,,0.,,0.,,0.,,0.,,0.,,0.,,0.,,0.,,0.,,0.,,0.,,0.,,0.,,0.,,0.\n",
      ",,0.,,0.,,0.,,0.,,0.,,0.,,0.,,0.,,0.,,0.,,0.,,0.,,0.,,0.,,0.,,0.,,0.,,0.\n",
      ",,0.,,0.,,0.,,0.,,0.,,0.,,0.,,0.,,0.,,0.,,0.,,0.,,0.,,0.,,0.,,0.,,0.,,0.\n",
      ",,0.,,0.,,0.,,0.,,0.,,0.,,0.,,0.,,0.,,0.,,0.,,0.,,0.,,0.,,0.,,0.,,0.,,0.\n",
      ",,0.,,0.,,0.,,0.,,0.,,0.,,0.,,0.,,0.,,0.,,0.,,0.,,0.,,0.,,0.,,0.,,0.,,0.\n",
      ",,0.,,0.,,0.,,0.,,0.,,0.]\n"
     ]
    }
   ],
   "source": [
    "import scipy.signal as spysig\n",
    "\n",
    "yester_index = npy.array([0, 1, 2, 3, 9, 10, 11, 15, 17, 24, 29]);\n",
    "yester_data = npy.array([5, 15, 2, 200, 10, 11, 13, 31, 33, 21, 23]);\n",
    "\n",
    "yester_array = npy.zeros(240);\n",
    "yester_array[yester_index] = yester_data;\n",
    "\n",
    "yester_array = spysig.medfilt(yester_array, kernel_size=3);\n",
    "\n",
    "#format the output data before returning\n",
    "yester_string = str(yester_array).replace(' ', ',');\n",
    "print(yester_string);"
   ]
  },
  {
   "cell_type": "code",
   "execution_count": 22,
   "metadata": {},
   "outputs": [
    {
     "data": {
      "image/png": "[encoded data removed]",
      "text/plain": [
       "<Figure size 432x288 with 1 Axes>"
      ]
     },
     "metadata": {},
     "output_type": "display_data"
    }
   ],
   "source": [
    "import matplotlib.pyplot as plt\n",
    "x = [0.0,0.0,0.0,0.0,0.0,0.0,0.0,0.0,0.0,0.0,0.0,0.0,0.0,0.0,0.0,0.0,0.0,0.0,0.0,0.0,0.0,0.0,0.0,0.0,0.0,0.0,0.0,0.0,0.0,0.0,0.0,0.0,0.0,0.0,0.0,0.0,0.0,0.0,0.0,0.0,0.0,0.0,0.0,0.0,0.0,0.0,0.0,0.0,0.0,0.0,0.0,0.0,0.0,0.0,0.22920705215645448,0.22934940312965624,0.2512287679362255,0.2512287679362255,0.2512287679362255,0.4491252819685449,0.4491252819685449,0.48686916247382644,0.48686916247382644,0.48686916247382644,0.48686916247382644,0.34318595847416483,0.34318595847416483,0.34318595847416483,0.34318595847416483,0.44064418768666525,0.34318595847416483,0.2651583209895172,0.1585464812217464,0.1,0.1,0.0,0.0,0.0,0.0,0.0,0.0,0.0,0.0,0.0,0.0,0.0,0.0,0.0,0.0,0.0,0.0,0.0,0.0,0.0,0.0,0.0,0.0,0.0,0.0,0.0,0.0,0.0,0.0,0.0,0.0,0.0,0.0,0.0,0.0,0.0,0.0,0.0,0.0,0.0,0.0,0.0,0.0,0.0,0.21419657229464334,0.24085673146761574,0.2527924693432248,0.2527924693432248,0.2935202542777021,0.3389139886581661,0.2935202542777021,0.4843769884832861,0.4843769884832861,0.5539768571783594,0.5539768571783594,0.4843769884832861,0.5539768571783594,0.5434651701572782,0.5434651701572782,0.488713187824956,0.488713187824956,0.488713187824956,0.4621519855444949,0.1,0.0,0.0,0.0,0.0,0.0,0.0,0.0,0.0,0.0,0.0,0.0,0.0,0.0,0.0,0.0,0.0,0.0,0.0,0.0,0.0,0.0,0.0,0.0,0.0,0.0,0.0,0.0,0.0,0.0,0.0,0.0,0.0,0.0,0.0,0.0,0.0,0.0,0.0,0.0,0.0,0.0,0.0,0.0,0.0,0.0,0.0,0.0,0.0,0.0,0.0,0.0,0.0,0.0,0.0,0.0,0.0,0.0,0.0,0.0,0.0,0.0,0.0,0.0,0.0,0.0,0.0,0.0,0.0,0.0,0.0,0.0,0.0,0.0,0.0,0.0,0.0,0.0,0.0,0.0,0.0,0.0,0.0,0.0,0.0,0.0,0.0,0.0,0.0,0.0,0.0,0.0,0.0,0.0,0.0,0.0,0.0,0.0,0.0,0.0,0.0,0.0,0.0];\n",
    "plt.plot(x, 'b');\n",
    "plt.xlim([0, 239])\n",
    "plt.show();"
   ]
  },
  {
   "cell_type": "code",
   "execution_count": 1,
   "metadata": {},
   "outputs": [
    {
     "data": {
      "text/plain": [
       "1.0"
      ]
     },
     "execution_count": 1,
     "metadata": {},
     "output_type": "execute_result"
    }
   ],
   "source": [
    "import numpy as npy\n",
    "npy.log(npy.exp(1))"
   ]
  },
  {
   "cell_type": "code",
   "execution_count": null,
   "metadata": {},
   "outputs": [],
   "source": []
  }
 ],
 "metadata": {
  "kernelspec": {
   "display_name": "Python 3",
   "language": "python",
   "name": "python3"
  },
  "language_info": {
   "codemirror_mode": {
    "name": "ipython",
    "version": 3
   },
   "file_extension": ".py",
   "mimetype": "text/x-python",
   "name": "python",
   "nbconvert_exporter": "python",
   "pygments_lexer": "ipython3",
   "version": "3.6.3"
  }
 },
 "nbformat": 4,
 "nbformat_minor": 2
}
